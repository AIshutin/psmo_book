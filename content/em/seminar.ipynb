{
 "cells": [
  {
   "cell_type": "markdown",
   "metadata": {},
   "source": [
    "# Семинар"
   ]
  },
  {
   "cell_type": "markdown",
   "metadata": {},
   "source": [
    "## Постановка задачи."
   ]
  },
  {
   "cell_type": "markdown",
   "metadata": {},
   "source": [
    "Сначала вспомним постановку задачи. \n",
    "Как и в предыдущих задачах, мы хотим максимизировать логарифм функции правдоподобия $\\ell(x | \\theta)$, чтобы найти оценку вектора параметров $\\theta$. \n",
    "Однако бывает так, что эта функция имеет такой вид, что максимизировать сложно (например, если под логарифмом оказывается сумма). \n",
    "Идея EM-алгоритма состоит в том, чтобы ввести латентные переменные $z$ и использовать совместное распределение $p(X, Z)$ для нахождения $\\hat{\\theta}$."
   ]
  },
  {
   "cell_type": "markdown",
   "metadata": {},
   "source": [
    "## EM-алгоритм в общем виде."
   ]
  },
  {
   "cell_type": "markdown",
   "metadata": {},
   "source": [
    "**Инициализация:** задать начальные условия на $\\theta_{old}$.\n",
    "\n",
    "**E.1-шаг:** найти условное распределение латентных переменных $p(Z | X, \\theta_{old})$.\n",
    "\n",
    "**E.2-шаг:** построить функцию $Q(\\theta, \\theta_{old}) = E_{Z | X, \\theta}(\\ell(x, z | \\theta) | x, \\theta_{old})$.\n",
    "\n",
    "**M-шаг:** максимизировать $Q$ по $\\theta$.\n",
    "\n",
    "Далее повторять E- и M-шаги до сходимости."
   ]
  },
  {
   "cell_type": "markdown",
   "metadata": {},
   "source": [
    "## Обоснование EM-алгоритма."
   ]
  },
  {
   "cell_type": "markdown",
   "metadata": {},
   "source": [
    "Для обоснования ЕМ-алгоритма и понимания обозначений рассмотрим пример: \n",
    "\n",
    "Пусть $X_1, X_2, \\ldots, X_n$ $\\sim f(x, | \\theta)$, где $f$ – какая-то функция плотности, $\\theta$ – вектор неизвестных параметров этой плотности.\n",
    "\n",
    "Пусть латентные переменные принимают всего два значения: $Z \\in \\{0, 1\\}$ – с вероятностями $P(Z = 0) = p_1$, $P(Z = 1) = 1-p_1$.\n",
    "\n",
    "Тогда $\\ell(x | \\theta) = \\sum_i \\ln f(x_i | \\theta)$.\n",
    "\n",
    "Заметим, что \n",
    "\n",
    "$$\n",
    "\\ell(x | \\theta) = \\sum_i \\ln f(x_i | \\theta) = \\sum_i \\sum_j P(Z = j)\\ln f(x_i | \\theta) = \n",
    "\\sum_i \\sum_j P(Z = j)\\ln \\dfrac{f(x_i, Z = j | \\theta)}{P(Z = j | x_i, \\theta)} = \n",
    "$$"
   ]
  },
  {
   "cell_type": "markdown",
   "metadata": {},
   "source": [
    "(чтобы понять последний переход, распишите знаменатель выражения под логарифмом по формуле условной вероятности)"
   ]
  },
  {
   "cell_type": "markdown",
   "metadata": {},
   "source": [
    "$$\n",
    "= \\sum_i \\sum_j P(Z = j)\\ln \\dfrac{f(x_i, Z = j | \\theta) P(Z = j)}{P(Z = j | x_i, \\theta)P(Z = j)} = \n",
    "$$\n",
    "\n",
    "$$\n",
    "= \\sum_i \\sum_j P(Z = j) \\ln \\dfrac{f(x_i, Z = j | \\theta)}{P(Z = j)} + \\sum_i \\sum_j P(Z = j) \\ln \\dfrac{P(Z = j)}{P(Z = j | x_i, \\theta)} =\n",
    "$$\n",
    "\n",
    "$$\n",
    "M(P(Z = j), \\theta) + D_{KL}[P(Z = j) || P(Z = j | x_i, \\theta)].\n",
    "$$"
   ]
  },
  {
   "cell_type": "markdown",
   "metadata": {},
   "source": [
    "Так как $D_{KL} \\ge 0$, то $M(P(Z = j), \\theta)$ является нижней оценкой на логарифм правдоподобия. Идея EM-алгоритма состоит в том, чтобы поочерёдно максимизировать $M(P(Z = j), \\theta)$ по $P(Z = j)$ (на E-шаге) и по $\\theta$ (на M-шаге)."
   ]
  },
  {
   "cell_type": "markdown",
   "metadata": {},
   "source": [
    "**E-шаг.**\n",
    "\n",
    "Максимизируем $M(P(Z = j), \\theta)$ по $P(Z = j)$.\n",
    "\n",
    "Так как $\\ell(x | \\theta)$ не зависит от $P(Z = j)$, то максимум $M(P(Z = j), \\theta)$ по $P(Z = j)$ будет достигнут, когда $D_{KL}$ минимальна. \n",
    "\n",
    "Минимальная $D_{KL}(A || B)$ равна 0, и это достигается, когда $A || B$. Из этого делаем вывод, что на E-шаге мы устанавливаем\n",
    "\n",
    "$$\n",
    "P(Z = j) := P(Z = j | x_i, \\theta^{old}).\n",
    "$$"
   ]
  },
  {
   "cell_type": "markdown",
   "metadata": {},
   "source": [
    "**M-шаг.**\n",
    "\n",
    "Максимизируем $M(P(Z = j), \\theta)$ по $\\theta$. Распишем $M$ ещё раз:\n",
    "\n",
    "$$\n",
    "M = \\sum_i \\sum_j P(Z = j) \\ln \\dfrac{f(x_i, Z = j | \\theta)}{P(Z = j)}\n",
    "$$\n"
   ]
  },
  {
   "cell_type": "markdown",
   "metadata": {},
   "source": [
    "Заметим, что знаменатель подлогарифмического выражения не зависит от $\\theta$. Выбросим его и заменим $P(Z = j)$ на результат, полученный нами на E-шаге:"
   ]
  },
  {
   "cell_type": "markdown",
   "metadata": {},
   "source": [
    "$$\n",
    "M = \\sum_i \\sum_j P(Z = j | x_i, \\theta^{old}) \\ln f(x_i, Z = j | \\theta) = \\sum_i E_{Z | x_i, \\theta_{old}}(\\ln f(x_i, Z = j | \\theta)) := Q(\\theta | \\theta^{old}).\n",
    "$$"
   ]
  },
  {
   "cell_type": "markdown",
   "metadata": {},
   "source": [
    "Далее мы максимизируем $Q$ по по $\\theta$, обновляем $\\theta$ на аргмаксимум $Q$, и возвращаемся к E-шагу."
   ]
  },
  {
   "cell_type": "markdown",
   "metadata": {},
   "source": [
    "## Обозначения."
   ]
  },
  {
   "cell_type": "markdown",
   "metadata": {},
   "source": [
    "Теперь соотнесём обозначения из общей постановки EM-алгоритма с теми, что мы получили в примере."
   ]
  },
  {
   "cell_type": "markdown",
   "metadata": {},
   "source": [
    "$p(Z)$ – это безусловное распределение $Z$. По сути, это массив размера $1\\times k$, где $k$ – число значений $Z$.\n",
    "\n",
    "$p(Z | X, \\theta_{old})$ – это условное распределение $Z$ при условии выборки. По сути, это массив размера $N\\times k$, где $N$ – размер выборки, $k$ – число значений $Z$. Каждая строчка есть вектор вероятностей того, что на данном наблюдении $Z$ равно соответствующему значению.\n",
    "\n",
    "$E_{Z | X, \\theta}(\\cdot)$ – это сумма матожиданий $\\sum_i E_{Z | x_i, \\theta}$ по всем наблюдениям выборки.\n",
    "\n",
    "$p(\\cdot)$ – распределение того, что стоит в скобках. Эта функция может оказаться функцией вероятности или функцией плотности в зависимости от контекста."
   ]
  },
  {
   "cell_type": "markdown",
   "metadata": {},
   "source": [
    "## Пример с лекции: задача о кластеризации (разделение смеси нормальных распределений).\n"
   ]
  },
  {
   "cell_type": "code",
   "execution_count": 98,
   "metadata": {},
   "outputs": [],
   "source": [
    "import numpy as np\n",
    "import matplotlib.pyplot as plt"
   ]
  },
  {
   "cell_type": "code",
   "execution_count": 99,
   "metadata": {},
   "outputs": [
    {
     "data": {
      "image/png": "[encoded data removed]",
      "text/plain": [
       "<Figure size 720x360 with 1 Axes>"
      ]
     },
     "metadata": {
      "needs_background": "light"
     },
     "output_type": "display_data"
    }
   ],
   "source": [
    "np.random.seed(123)\n",
    "y1 = np.random.normal(0, 1, 100)\n",
    "y2 = np.random.normal(4, 1, 100)\n",
    "plt.figure(figsize = (10, 5))\n",
    "_ = plt.hist(y1, alpha = 0.7, label = 'Кластер 1')\n",
    "_ = plt.hist(y2, alpha = 0.7, label = 'Кластер 2')\n",
    "_ = plt.legend()\n",
    "_ = plt.title(\"Смесь нормальных распределений\")\n",
    "_ = plt.grid()"
   ]
  },
  {
   "cell_type": "code",
   "execution_count": 102,
   "metadata": {},
   "outputs": [
    {
     "data": {
      "text/plain": [
       "(200,)"
      ]
     },
     "execution_count": 102,
     "metadata": {},
     "output_type": "execute_result"
    }
   ],
   "source": [
    "x = np.concatenate((y1, y2))\n",
    "x.shape"
   ]
  },
  {
   "cell_type": "markdown",
   "metadata": {},
   "source": [
    "### Постановка задачи.\n",
    "\n",
    "Пусть мы точно знаем, что наблюдения принадлежат одному из двух кластеров. Пусть в первом кластере наблюдения берутся из нормального $\\mathcal{N}(\\mu_1, \\sigma_1^2)$ распределения, а во втором – из нормального $\\mathcal{N}(\\mu_2, \\sigma_2^2)$ распределения. Предположим, что все наблюдения независимы, и вероятность того, что наблюдение относится к первому кластеру, равна $p_1$."
   ]
  },
  {
   "cell_type": "code",
   "execution_count": 103,
   "metadata": {},
   "outputs": [
    {
     "data": {
      "text/plain": [
       "array([-2.79858911,  4.69844652,  6.59830393,  4.69844652,  0.5       ])"
      ]
     },
     "execution_count": 103,
     "metadata": {},
     "output_type": "execute_result"
    }
   ],
   "source": [
    "# Определите вектор параметров для данной задачи и задайте начальные условия\n",
    "# theta = (mu_1, sigma2_1, mu2, sigma2_2, p_1)\n",
    "# (воспользовались эвристикой)\n",
    "theta = np.array([np.min(x), (np.max(x) - np.min(x)) / 2, np.max(x), (np.max(x) - np.min(x)) / 2, 1/2])\n",
    "theta"
   ]
  },
  {
   "cell_type": "markdown",
   "metadata": {},
   "source": [
    "### Определение латентных переменных."
   ]
  },
  {
   "cell_type": "markdown",
   "metadata": {},
   "source": [
    "$z \\in \\{1, 2\\}$ – номер кластера.\n",
    "\n",
    "Вспомним, что у нас есть обозначение $p_1 = P(z = 1)$ – вероятность отнести наблюдение к первому кластеру."
   ]
  },
  {
   "cell_type": "markdown",
   "metadata": {},
   "source": [
    "### E1-шаг."
   ]
  },
  {
   "cell_type": "markdown",
   "metadata": {},
   "source": [
    "Найти условное распределение латентных переменных $p(Z | X, \\theta_{old})$. Для данной задачи это означает, что мы должны получить массив $200\\times2$ (200 наблюдений, 2 значения $z$). Нам достаточно найти только один столбец массива – этот столбец будет размера $200\\times1$ (то есть вероятность того, что $z = 1$) – потому что второй столбец определяется однозначно как ($1 - $ первый столбец)."
   ]
  },
  {
   "cell_type": "markdown",
   "metadata": {},
   "source": [
    "По формуле условной вероятности:\n",
    "$$\n",
    "p(z | x, \\theta_{old}) = \\dfrac{p(z, x | \\theta_{old})}{p(x | \\theta_{old})}\n",
    "$$"
   ]
  },
  {
   "cell_type": "markdown",
   "metadata": {},
   "source": [
    "и\n",
    "$$\n",
    "p(x | z, \\theta_{old}) = \\dfrac{p(x, z | \\theta_{old})}{p(z)}\n",
    "$$"
   ]
  },
  {
   "cell_type": "markdown",
   "metadata": {},
   "source": [
    "Тогда\n",
    "$$\n",
    "P(z_i = 1 | x_i, \\theta_{old}) = \\dfrac{p(z_i = 1, x_i | \\theta_{old})}{f(x_i | \\theta_{old})}\n",
    "$$"
   ]
  },
  {
   "cell_type": "markdown",
   "metadata": {},
   "source": [
    "$$\n",
    "= \\dfrac{f(x_i | z_i = 1, \\theta_{old})p_1}{p_1f(x_i | z_i = 1, \\theta_{old}) + (1-p_1)f(x_i | z_i = 2, \\theta_{old})}\n",
    "$$"
   ]
  },
  {
   "cell_type": "code",
   "execution_count": 104,
   "metadata": {},
   "outputs": [],
   "source": [
    "# Задайте плотность x\n",
    "def f(x, mu, sigma2):\n",
    "    return 1 / np.sqrt(2 * np.pi * sigma2) * np.exp(-1/2 * 1/sigma2 * (x - mu)**2)"
   ]
  },
  {
   "cell_type": "code",
   "execution_count": 105,
   "metadata": {},
   "outputs": [],
   "source": [
    "# Рассчитайте распределение латентных переменных на наших данных\n",
    "p_z_1 = f(x, mu = theta[0], sigma2 = theta[1]) * theta[4] / (theta[4] * f(x, mu = theta[0], sigma2 = theta[1]) + \n",
    "                                                       (1-theta[4]) * f(x, mu = theta[2], sigma2 = theta[3]))"
   ]
  },
  {
   "cell_type": "code",
   "execution_count": 107,
   "metadata": {},
   "outputs": [
    {
     "data": {
      "text/plain": [
       "(200,)"
      ]
     },
     "execution_count": 107,
     "metadata": {},
     "output_type": "execute_result"
    }
   ],
   "source": [
    "# Заметим, что полученный массив имеет размер 200x1\n",
    "p_z_1.shape"
   ]
  },
  {
   "cell_type": "markdown",
   "metadata": {},
   "source": [
    "### E2-шаг."
   ]
  },
  {
   "cell_type": "markdown",
   "metadata": {},
   "source": [
    "Постройте функцию $Q(\\theta | \\theta_{old}) = E_{Z | X, \\theta}(\\ell(x, z | \\theta) | x, \\theta_{old})$."
   ]
  },
  {
   "cell_type": "markdown",
   "metadata": {},
   "source": [
    "По формуле условной вероятности:\n",
    "$$\n",
    "p(x, z | \\theta) = p(x | \\theta, z) \\times p(z)\n",
    "$$"
   ]
  },
  {
   "cell_type": "markdown",
   "metadata": {},
   "source": [
    "$$\n",
    "Q(\\theta | \\theta_{old}) = \\sum_i P(z_i = 1 | x, \\theta_{old})[\\ln f(x_i | \\theta) + \\ln p_1] + (1 - P(z_i = 1 | x, \\theta_{old})[\\ln f(x_i | \\theta) + \\ln(1-p_1)].\n",
    "$$"
   ]
  },
  {
   "cell_type": "markdown",
   "metadata": {},
   "source": [
    "### M-шаг."
   ]
  },
  {
   "cell_type": "markdown",
   "metadata": {},
   "source": [
    "Выведите формулы для максимизации $Q$."
   ]
  },
  {
   "cell_type": "markdown",
   "metadata": {},
   "source": [
    "$$\n",
    "Q'_{\\mu_1} = \\sum_i P(z_i = 1 | x, \\theta_{old}) \\dfrac{(x_i - \\mu_1)}{\\sigma_1^2}\n",
    "$$"
   ]
  },
  {
   "cell_type": "markdown",
   "metadata": {},
   "source": [
    "$$\n",
    "\\mu_1^{new} = \\dfrac{\\sum_i P(z_i = 1 | x, \\theta_{old}) x_i}{\\sum_i P(z_i = 1 | x, \\theta_{old})}\n",
    "$$"
   ]
  },
  {
   "cell_type": "markdown",
   "metadata": {},
   "source": [
    "Аналогично,"
   ]
  },
  {
   "cell_type": "markdown",
   "metadata": {},
   "source": [
    "$$\n",
    "\\mu_2^{new} = \\dfrac{\\sum_i (1 - P(z_i = 1 | x, \\theta_{old})) x_i}{\\sum_i (1 - P(z_i = 1 | x, \\theta_{old}))}\n",
    "$$"
   ]
  },
  {
   "cell_type": "markdown",
   "metadata": {},
   "source": [
    "Далее:"
   ]
  },
  {
   "cell_type": "markdown",
   "metadata": {},
   "source": [
    "$$\n",
    "Q'_{\\sigma_1^2} = \\sum_i P(z_i = 1 | x, \\theta_{old}) (-\\dfrac{1}{2\\sigma^2_1} + \\dfrac{1}{2}\\dfrac{(x_i - \\mu)^2}{\\sigma_1^4})\n",
    "$$"
   ]
  },
  {
   "cell_type": "markdown",
   "metadata": {},
   "source": [
    "$$\n",
    "\\sigma_1^{2, new} = \\dfrac{\\sum_i (x_i - \\mu)^2 P(z_i = 1 | x, \\theta_{old})}{\\sum_i P(z_i = 1 | x, \\theta_{old})}\n",
    "$$"
   ]
  },
  {
   "cell_type": "markdown",
   "metadata": {},
   "source": [
    "Аналогично для $\\sigma_2^{2, new}$."
   ]
  },
  {
   "cell_type": "markdown",
   "metadata": {},
   "source": [
    "Далее:"
   ]
  },
  {
   "cell_type": "markdown",
   "metadata": {},
   "source": [
    "$$\n",
    "Q'_{p_1} = \\sum_i P(z_i = 1 | x, \\theta_{old}) \\dfrac{1}{p_1} - (1 - P(z_i = 1 | x, \\theta_{old})) \\dfrac{1}{1 - p_1}\n",
    "$$"
   ]
  },
  {
   "cell_type": "markdown",
   "metadata": {},
   "source": [
    "$$\n",
    "p_1^{new} = \\dfrac{\\sum_i P(z_i = 1 | x, \\theta_{old})}{n}\n",
    "$$"
   ]
  },
  {
   "cell_type": "code",
   "execution_count": 108,
   "metadata": {},
   "outputs": [],
   "source": [
    "# Реализуйте формулы для одного M-шага\n",
    "mu_1 = np.sum(p_z_1 * x) / np.sum(p_z_1)"
   ]
  },
  {
   "cell_type": "code",
   "execution_count": 109,
   "metadata": {},
   "outputs": [],
   "source": [
    "mu_2 = np.sum((1-p_z_1) * x) / np.sum(1-p_z_1)"
   ]
  },
  {
   "cell_type": "code",
   "execution_count": 110,
   "metadata": {},
   "outputs": [],
   "source": [
    "sigma2_1 = np.sum((x - mu_1) ** 2 * p_z_1)/ np.sum(p_z_1)"
   ]
  },
  {
   "cell_type": "code",
   "execution_count": 111,
   "metadata": {},
   "outputs": [],
   "source": [
    "sigma2_2 = np.sum((x - mu_2) ** 2 * (1 - p_z_1))/ np.sum(1 - p_z_1)"
   ]
  },
  {
   "cell_type": "code",
   "execution_count": 112,
   "metadata": {},
   "outputs": [],
   "source": [
    "p1 = np.sum(p_z_1) / len(x)"
   ]
  },
  {
   "cell_type": "code",
   "execution_count": 113,
   "metadata": {},
   "outputs": [],
   "source": [
    "theta_new = np.array([mu_1, sigma2_1, mu_2, sigma2_2, p1])"
   ]
  },
  {
   "cell_type": "code",
   "execution_count": 114,
   "metadata": {},
   "outputs": [
    {
     "data": {
      "text/plain": [
       "array([-2.79858911,  4.69844652,  6.59830393,  4.69844652,  0.5       ])"
      ]
     },
     "execution_count": 114,
     "metadata": {},
     "output_type": "execute_result"
    }
   ],
   "source": [
    "theta"
   ]
  },
  {
   "cell_type": "code",
   "execution_count": 115,
   "metadata": {},
   "outputs": [
    {
     "data": {
      "text/plain": [
       "array([0.01920326, 1.45048155, 3.83743546, 1.30562653, 0.48023499])"
      ]
     },
     "execution_count": 115,
     "metadata": {},
     "output_type": "execute_result"
    }
   ],
   "source": [
    "theta_new"
   ]
  },
  {
   "cell_type": "markdown",
   "metadata": {},
   "source": [
    "### Решение задачи кластеризации."
   ]
  },
  {
   "cell_type": "markdown",
   "metadata": {},
   "source": [
    "На каждом шаге будем дополнительно рассчитывать значение $Q$. Для этого определим дополнительные функции:"
   ]
  },
  {
   "cell_type": "code",
   "execution_count": 349,
   "metadata": {},
   "outputs": [],
   "source": [
    "# Логарифм функции плотности x\n",
    "def lnf(x, mu, sigma2):\n",
    "    return -1/2 * np.log(2 * np.pi * sigma2) - 1/2 * (x - mu) ** 2 / sigma2"
   ]
  },
  {
   "cell_type": "code",
   "execution_count": 350,
   "metadata": {},
   "outputs": [],
   "source": [
    "def Q_f(x, theta, p_z_1):\n",
    "    ell1 = lnf(x, theta[0], theta[1]) + np.log(theta[4])\n",
    "    ell2 = lnf(x, theta[2], theta[3]) + np.log(1 - theta[4])\n",
    "    return np.sum(p_z_1 * ell1 + (1 - p_z_1) * ell2)"
   ]
  },
  {
   "cell_type": "markdown",
   "metadata": {},
   "source": [
    "Соберём E- и М-шаги в функцию."
   ]
  },
  {
   "cell_type": "code",
   "execution_count": 351,
   "metadata": {},
   "outputs": [],
   "source": [
    "def EM(x, theta):\n",
    "    \n",
    "    Q_history = []\n",
    "    \n",
    "    for i in range(100):\n",
    "        \n",
    "        # E-step\n",
    "        p_z_1 = f(x, mu = theta[0], sigma2 = theta[1]) * theta[4] / (theta[4] * f(x, mu = theta[0], sigma2 = theta[1]) + \n",
    "                                                       (1-theta[4]) * f(x, mu = theta[2], sigma2 = theta[3]))\n",
    "        \n",
    "        # M-step\n",
    "        mu_1 = np.sum(p_z_1 * x) / np.sum(p_z_1)\n",
    "        mu_2 = np.sum((1-p_z_1) * x) / np.sum(1-p_z_1)\n",
    "        sigma2_1 = np.sum((x - mu_1) ** 2 * p_z_1)/ np.sum(p_z_1)\n",
    "        sigma2_2 = np.sum((x - mu_2) ** 2 * (1-p_z_1))/ np.sum(1 - p_z_1)\n",
    "        p1 = np.sum(p_z_1) / len(x)\n",
    "        theta_new = np.array([mu_1, sigma2_1, mu_2, sigma2_2, p1])\n",
    "        \n",
    "        theta = theta_new\n",
    "        \n",
    "        Q_history.append(Q_f(x, theta, p_z_1))\n",
    "        \n",
    "        if len(Q_history) > 1:\n",
    "            if np.linalg.norm(Q_history[-1] - Q_history[-2]) < 1e-8:\n",
    "                break\n",
    "        \n",
    "    return theta, Q_history"
   ]
  },
  {
   "cell_type": "code",
   "execution_count": 352,
   "metadata": {},
   "outputs": [],
   "source": [
    "# Реинициализируем для удобства\n",
    "np.random.seed(123)\n",
    "y1 = np.random.normal(0, 1, 100)\n",
    "y2 = np.random.normal(4, 1, 100)\n",
    "x = np.concatenate((y1, y2))\n",
    "theta = np.array([np.min(x), (np.max(x) - np.min(x)) / 2, np.max(x), (np.max(x) - np.min(x)) / 2, 1/2])"
   ]
  },
  {
   "cell_type": "code",
   "execution_count": 353,
   "metadata": {},
   "outputs": [],
   "source": [
    "theta, Q = EM(x, theta)"
   ]
  },
  {
   "cell_type": "code",
   "execution_count": 354,
   "metadata": {},
   "outputs": [
    {
     "data": {
      "text/plain": [
       "array([0.1335007 , 1.45409172, 4.09054136, 0.72902767, 0.52735233])"
      ]
     },
     "execution_count": 354,
     "metadata": {},
     "output_type": "execute_result"
    }
   ],
   "source": [
    "# Вспомним, что theta = (mu1, sigma2_1, mu2, sigma2_2, p1)\n",
    "theta"
   ]
  },
  {
   "cell_type": "code",
   "execution_count": 356,
   "metadata": {},
   "outputs": [
    {
     "data": {
      "image/png": "[encoded data removed]",
      "text/plain": [
       "<Figure size 1080x504 with 2 Axes>"
      ]
     },
     "metadata": {
      "needs_background": "light"
     },
     "output_type": "display_data"
    }
   ],
   "source": [
    "fig, ax = plt.subplots(1, 2, figsize = (15, 7))\n",
    "ax[0].plot(Q, label = 'Q')\n",
    "ax[0].legend()\n",
    "ax[0].grid()\n",
    "ax[0].set_xlabel(\"Итерация\")\n",
    "ax[0].set_ylabel(\"Q\")\n",
    "_ = ax[0].set_title(\"Динамика Q\")\n",
    "ax[1].plot(Q[5:], label = 'Q')\n",
    "ax[1].legend()\n",
    "ax[1].grid()\n",
    "ax[1].set_xlabel(\"Итерация\")\n",
    "ax[1].set_ylabel(\"Q\")\n",
    "_ = ax[1].set_title(\"Динамика Q, начиная с 5-го наблюдения\")"
   ]
  },
  {
   "cell_type": "markdown",
   "metadata": {},
   "source": [
    "## Динамика Q."
   ]
  },
  {
   "cell_type": "markdown",
   "metadata": {},
   "source": [
    "Во многих источниках утверждается, что на каждой итерации EM-алгоритма значение **неполного правдоподобия** не уменьшается. Доказывается это следующим образом.\n",
    "\n",
    "$$\n",
    "\\ell(x | \\theta_{new}) = M(\\theta_{new} | \\theta_{old}) + D_{KL} \\ge M(\\theta_{new} | \\theta_{old}) \\ge M(\\theta_{old} | \\theta_{old}) = \\ell(x | \\theta_{old})\n",
    "$$"
   ]
  },
  {
   "cell_type": "markdown",
   "metadata": {},
   "source": [
    "Последнее равенство верно, потому что после E-шага значение неполного правдоподобия совпадает с его нижней оценкой. "
   ]
  },
  {
   "cell_type": "markdown",
   "metadata": {},
   "source": [
    "Заметим, однако, что мы можем сделать вывод только о **неполном правдоподобии**\n",
    "\n",
    "$$\n",
    "M(\\theta_{new} | \\theta_{old}) \\ge M(\\theta_{old} | \\theta_{old}),\n",
    "$$\n",
    "\n",
    "но не об **ожидаемом неполном правдподобии**\n",
    "\n",
    "$$\n",
    "M(\\theta_{old} | \\theta_{old}) \\text{ ? } M(\\theta_{old} | \\theta_{old-1}),\n",
    "$$\n",
    "\n",
    "то есть мы ничего не можем сказать о соотношениях нижней оценки на правдоподобие, если используются значения $P(Z = j)$ до и после E-шага. Можно заметить, что из этого следует, что мы также не можем сравнить\n",
    "\n",
    "$$\n",
    "M(\\theta_{new} | \\theta_{old}) \\text{ ? } M(\\theta_{old} | \\theta_{old-1}).\n",
    "$$\n",
    "\n",
    "На практике это означает, что динамика $Q$ **может оказаться не монотонной**, что мы и увидели в примере выше (другими словами это описано [здесь](https://stats.stackexchange.com/questions/341173/em-algorithm-seems-to-work-but-q-is-not-monotonic-possible-reasons)). \n",
    "\n",
    "Заметим, что динамика изменения $Q$ до и после M-шага обязана быть монотонной в соответствии с доказательством выше."
   ]
  },
  {
   "cell_type": "code",
   "execution_count": 357,
   "metadata": {},
   "outputs": [],
   "source": [
    "def EM_dynamics(x, theta):\n",
    "    \n",
    "    Q_M = []\n",
    "    \n",
    "    for i in range(100):\n",
    "        \n",
    "        # E-step\n",
    "        p_z_1 = f(x, mu = theta[0], sigma2 = theta[1]) * theta[4] / (theta[4] * f(x, mu = theta[0], sigma2 = theta[1]) + \n",
    "                                                       (1-theta[4]) * f(x, mu = theta[2], sigma2 = theta[3]))\n",
    "        \n",
    "        # Рассчитаем Q до M-шага\n",
    "        Q_0 = Q_f(x, theta, p_z_1)\n",
    "        \n",
    "        # M-step\n",
    "        mu_1 = np.sum(p_z_1 * x) / np.sum(p_z_1)\n",
    "        mu_2 = np.sum((1-p_z_1) * x) / np.sum(1-p_z_1)\n",
    "        sigma2_1 = np.sum((x - mu_1) ** 2 * p_z_1)/ np.sum(p_z_1)\n",
    "        sigma2_2 = np.sum((x - mu_2) ** 2 * (1-p_z_1))/ np.sum(1 - p_z_1)\n",
    "        p1 = np.sum(p_z_1) / len(x)\n",
    "        theta_new = np.array([mu_1, sigma2_1, mu_2, sigma2_2, p1])\n",
    "        \n",
    "        theta = theta_new\n",
    "        \n",
    "        # Рассчитаем Q после M-шага и сохраним разницу\n",
    "        Q_M.append(Q_f(x, theta, p_z_1) - Q_0)\n",
    "        \n",
    "    return theta, Q_M"
   ]
  },
  {
   "cell_type": "code",
   "execution_count": 358,
   "metadata": {},
   "outputs": [],
   "source": [
    "# Реинициализируем для удобства\n",
    "np.random.seed(123)\n",
    "y1 = np.random.normal(0, 1, 100)\n",
    "y2 = np.random.normal(4, 1, 100)\n",
    "x = np.concatenate((y1, y2))\n",
    "theta = np.array([np.min(x), (np.max(x) - np.min(x)) / 2, np.max(x), (np.max(x) - np.min(x)) / 2, 1/2])"
   ]
  },
  {
   "cell_type": "code",
   "execution_count": 359,
   "metadata": {},
   "outputs": [],
   "source": [
    "theta, Q_M = EM_dynamics(x, theta)"
   ]
  },
  {
   "cell_type": "code",
   "execution_count": 360,
   "metadata": {},
   "outputs": [
    {
     "data": {
      "text/plain": [
       "array([0.1335007 , 1.45409173, 4.09054136, 0.72902766, 0.52735233])"
      ]
     },
     "execution_count": 360,
     "metadata": {},
     "output_type": "execute_result"
    }
   ],
   "source": [
    "# Вспомним, что theta = (mu1, sigma2_1, mu2, sigma2_2, p1)\n",
    "theta"
   ]
  },
  {
   "cell_type": "code",
   "execution_count": 361,
   "metadata": {},
   "outputs": [
    {
     "data": {
      "image/png": "[encoded data removed]",
      "text/plain": [
       "<Figure size 720x504 with 1 Axes>"
      ]
     },
     "metadata": {
      "needs_background": "light"
     },
     "output_type": "display_data"
    }
   ],
   "source": [
    "plt.figure(figsize = (10, 7))\n",
    "plt.plot(Q_M)\n",
    "plt.title(\"Изменения Q после M-шага\")\n",
    "plt.xlabel(\"Итерация\")\n",
    "plt.ylabel(\"Изменение Q\")\n",
    "plt.grid()"
   ]
  },
  {
   "cell_type": "markdown",
   "metadata": {},
   "source": [
    "## Тестирование EM-алгоритма на случайных данных."
   ]
  },
  {
   "cell_type": "markdown",
   "metadata": {},
   "source": [
    "### Сильно разрозненные данные."
   ]
  },
  {
   "cell_type": "code",
   "execution_count": 362,
   "metadata": {},
   "outputs": [
    {
     "data": {
      "image/png": "[encoded data removed]",
      "text/plain": [
       "<Figure size 720x360 with 1 Axes>"
      ]
     },
     "metadata": {
      "needs_background": "light"
     },
     "output_type": "display_data"
    }
   ],
   "source": [
    "np.random.seed(1234)\n",
    "x1 = np.random.normal(0, 1, 1000)\n",
    "x2 = np.random.normal(10, 0.5, 1000)\n",
    "\n",
    "x = np.hstack((x1, x2))\n",
    "np.random.shuffle(x)\n",
    "\n",
    "theta = np.array([np.min(x), (np.max(x) - np.min(x)) / 2, np.max(x), (np.max(x) - np.min(x)) / 2, 1/2])\n",
    "\n",
    "plt.figure(figsize = (10, 5))\n",
    "_ = plt.hist(x1, alpha = 0.7, label = 'Кластер 1')\n",
    "_ = plt.hist(x2, alpha = 0.7, label = 'Кластер 2')\n",
    "_ = plt.legend()\n",
    "_ = plt.title(\"Смесь нормальных распределений\")\n",
    "_ = plt.grid()"
   ]
  },
  {
   "cell_type": "code",
   "execution_count": 363,
   "metadata": {},
   "outputs": [],
   "source": [
    "theta, Q = EM(x, theta)"
   ]
  },
  {
   "cell_type": "code",
   "execution_count": 364,
   "metadata": {},
   "outputs": [
    {
     "data": {
      "text/plain": [
       "array([ 0.01574058,  0.94685783, 10.02088093,  0.24555588,  0.5       ])"
      ]
     },
     "execution_count": 364,
     "metadata": {},
     "output_type": "execute_result"
    }
   ],
   "source": [
    "theta"
   ]
  },
  {
   "cell_type": "code",
   "execution_count": 365,
   "metadata": {},
   "outputs": [
    {
     "data": {
      "image/png": "[encoded data removed]",
      "text/plain": [
       "<Figure size 720x504 with 1 Axes>"
      ]
     },
     "metadata": {
      "needs_background": "light"
     },
     "output_type": "display_data"
    }
   ],
   "source": [
    "plt.figure(figsize = (10, 7))\n",
    "_ = plt.plot(Q, label = 'Q')\n",
    "_ = plt.legend()\n",
    "_ = plt.grid()\n",
    "_ = plt.title(\"Динамика Q\")"
   ]
  },
  {
   "cell_type": "markdown",
   "metadata": {},
   "source": [
    "### Сильно смешанные данные."
   ]
  },
  {
   "cell_type": "code",
   "execution_count": 366,
   "metadata": {},
   "outputs": [
    {
     "data": {
      "image/png": "[encoded data removed]",
      "text/plain": [
       "<Figure size 720x360 with 1 Axes>"
      ]
     },
     "metadata": {
      "needs_background": "light"
     },
     "output_type": "display_data"
    }
   ],
   "source": [
    "np.random.seed(1234)\n",
    "x1 = np.random.normal(0, 1, 1000)\n",
    "x2 = np.random.normal(2, 0.5, 1000)\n",
    "\n",
    "x = np.hstack((x1, x2))\n",
    "np.random.shuffle(x)\n",
    "\n",
    "theta = np.array([np.min(x), (np.max(x) - np.min(x)) / 2, np.max(x), (np.max(x) - np.min(x)) / 2, 1/2])\n",
    "\n",
    "plt.figure(figsize = (10, 5))\n",
    "_ = plt.hist(x1, alpha = 0.7, label = 'Кластер 1')\n",
    "_ = plt.hist(x2, alpha = 0.7, label = 'Кластер 2')\n",
    "_ = plt.legend()\n",
    "_ = plt.title(\"Смесь нормальных распределений\")\n",
    "_ = plt.grid()"
   ]
  },
  {
   "cell_type": "code",
   "execution_count": 367,
   "metadata": {},
   "outputs": [],
   "source": [
    "theta, Q = EM(x, theta)"
   ]
  },
  {
   "cell_type": "code",
   "execution_count": 368,
   "metadata": {},
   "outputs": [
    {
     "data": {
      "text/plain": [
       "array([-1.65246121e-03,  9.20790763e-01,  2.02135007e+00,  2.41473450e-01,\n",
       "        4.95817131e-01])"
      ]
     },
     "execution_count": 368,
     "metadata": {},
     "output_type": "execute_result"
    }
   ],
   "source": [
    "theta"
   ]
  },
  {
   "cell_type": "code",
   "execution_count": 369,
   "metadata": {},
   "outputs": [
    {
     "data": {
      "image/png": "[encoded data removed]",
      "text/plain": [
       "<Figure size 720x504 with 1 Axes>"
      ]
     },
     "metadata": {
      "needs_background": "light"
     },
     "output_type": "display_data"
    }
   ],
   "source": [
    "plt.figure(figsize = (10, 7))\n",
    "_ = plt.plot(Q, label = 'Q')\n",
    "_ = plt.legend()\n",
    "_ = plt.grid()\n",
    "_ = plt.title(\"Динамика Q\")"
   ]
  }
 ],
 "metadata": {
  "kernelspec": {
   "display_name": "Python 3",
   "language": "python",
   "name": "python3"
  },
  "language_info": {
   "codemirror_mode": {
    "name": "ipython",
    "version": 3
   },
   "file_extension": ".py",
   "mimetype": "text/x-python",
   "name": "python",
   "nbconvert_exporter": "python",
   "pygments_lexer": "ipython3",
   "version": "3.8.8"
  }
 },
 "nbformat": 4,
 "nbformat_minor": 4
}
